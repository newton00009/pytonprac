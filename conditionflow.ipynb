{
  "nbformat": 4,
  "nbformat_minor": 0,
  "metadata": {
    "colab": {
      "name": "conditionflow.ipynb",
      "provenance": [],
      "collapsed_sections": [],
      "authorship_tag": "ABX9TyOrOAA7fY6bC01CuH89jcwX",
      "include_colab_link": true
    },
    "kernelspec": {
      "name": "python3",
      "display_name": "Python 3"
    },
    "language_info": {
      "name": "python"
    }
  },
  "cells": [
    {
      "cell_type": "markdown",
      "metadata": {
        "id": "view-in-github",
        "colab_type": "text"
      },
      "source": [
        "<a href=\"https://colab.research.google.com/github/newton00009/pytonprac/blob/main/conditionflow.ipynb\" target=\"_parent\"><img src=\"https://colab.research.google.com/assets/colab-badge.svg\" alt=\"Open In Colab\"/></a>"
      ]
    },
    {
      "cell_type": "code",
      "metadata": {
        "colab": {
          "base_uri": "https://localhost:8080/"
        },
        "id": "KvRMgBemW7Et",
        "outputId": "26d317a8-a3f0-4959-d4a6-377bb43726d7"
      },
      "source": [
        "#boolean functions\n",
        "\n",
        "def is_divisible(x,y):\n",
        "  if ( x%y == 0):\n",
        "    return True\n",
        "  else:\n",
        "    return False\n",
        "  \n",
        "is_divisible(12,2)"
      ],
      "execution_count": null,
      "outputs": [
        {
          "output_type": "execute_result",
          "data": {
            "text/plain": [
              "True"
            ]
          },
          "metadata": {
            "tags": []
          },
          "execution_count": 7
        }
      ]
    },
    {
      "cell_type": "code",
      "metadata": {
        "colab": {
          "base_uri": "https://localhost:8080/"
        },
        "id": "4Yc8F591YG0w",
        "outputId": "bee997ad-b57a-4e63-867a-4be5c039ba20"
      },
      "source": [
        "def div(x,y):\n",
        "  return x%y == 0\n",
        "\n",
        "\n",
        "div(4,2)"
      ],
      "execution_count": null,
      "outputs": [
        {
          "output_type": "execute_result",
          "data": {
            "text/plain": [
              "True"
            ]
          },
          "metadata": {
            "tags": []
          },
          "execution_count": 8
        }
      ]
    },
    {
      "cell_type": "code",
      "metadata": {
        "colab": {
          "base_uri": "https://localhost:8080/"
        },
        "id": "PgW25aCCYcTt",
        "outputId": "df33cc90-d23d-4b4d-8a8c-a1d97bdc01c9"
      },
      "source": [
        "#reassignment\n",
        "\n",
        "x=5\n",
        "print(x)\n",
        "x=7\n",
        "print(x)\n",
        "x='abc'\n",
        "print(x)\n"
      ],
      "execution_count": null,
      "outputs": [
        {
          "output_type": "stream",
          "text": [
            "5\n",
            "7\n",
            "abc\n"
          ],
          "name": "stdout"
        }
      ]
    },
    {
      "cell_type": "code",
      "metadata": {
        "colab": {
          "base_uri": "https://localhost:8080/"
        },
        "id": "JQ6nlb42avQx",
        "outputId": "28a593b6-d95a-4618-9434-5028b888a8ca"
      },
      "source": [
        "print(range(10)) #0 to 9"
      ],
      "execution_count": null,
      "outputs": [
        {
          "output_type": "stream",
          "text": [
            "range(0, 10)\n"
          ],
          "name": "stdout"
        }
      ]
    },
    {
      "cell_type": "code",
      "metadata": {
        "colab": {
          "base_uri": "https://localhost:8080/"
        },
        "id": "RJfq-NvKbPo0",
        "outputId": "e23ce4d2-dabf-4f63-a04a-427bee3443d8"
      },
      "source": [
        "range(4,10,2)"
      ],
      "execution_count": null,
      "outputs": [
        {
          "output_type": "execute_result",
          "data": {
            "text/plain": [
              "range(4, 10, 2)"
            ]
          },
          "metadata": {
            "tags": []
          },
          "execution_count": 11
        }
      ]
    },
    {
      "cell_type": "code",
      "metadata": {
        "colab": {
          "base_uri": "https://localhost:8080/"
        },
        "id": "EZNCZlc_bxN1",
        "outputId": "3a24f900-912b-459e-b026-c01ccc3f66f2"
      },
      "source": [
        "#iteration\n",
        "\n",
        "for x in range(20):\n",
        "  print(\"python\",x)"
      ],
      "execution_count": null,
      "outputs": [
        {
          "output_type": "stream",
          "text": [
            "python 0\n",
            "python 1\n",
            "python 2\n",
            "python 3\n",
            "python 4\n",
            "python 5\n",
            "python 6\n",
            "python 7\n",
            "python 8\n",
            "python 9\n",
            "python 10\n",
            "python 11\n",
            "python 12\n",
            "python 13\n",
            "python 14\n",
            "python 15\n",
            "python 16\n",
            "python 17\n",
            "python 18\n",
            "python 19\n"
          ],
          "name": "stdout"
        }
      ]
    },
    {
      "cell_type": "code",
      "metadata": {
        "colab": {
          "base_uri": "https://localhost:8080/"
        },
        "id": "HMAvju48cr0O",
        "outputId": "68ec1c3c-f6b5-48cf-af02-1b2df9bb8a3c"
      },
      "source": [
        "#iteration\n",
        "\n",
        "for x in range(5,20,3):\n",
        "  print(\"python\",x)"
      ],
      "execution_count": null,
      "outputs": [
        {
          "output_type": "stream",
          "text": [
            "python 5\n",
            "python 8\n",
            "python 11\n",
            "python 14\n",
            "python 17\n"
          ],
          "name": "stdout"
        }
      ]
    },
    {
      "cell_type": "code",
      "metadata": {
        "colab": {
          "base_uri": "https://localhost:8080/"
        },
        "id": "CstSunhFc34a",
        "outputId": "e1c0474c-bd96-4d49-af8b-39230f0585e0"
      },
      "source": [
        "#iteration\n",
        "\n",
        "for x in range(20,6,-3):\n",
        "  print(\"python\",x)"
      ],
      "execution_count": null,
      "outputs": [
        {
          "output_type": "stream",
          "text": [
            "python 20\n",
            "python 17\n",
            "python 14\n",
            "python 11\n",
            "python 8\n"
          ],
          "name": "stdout"
        }
      ]
    },
    {
      "cell_type": "code",
      "metadata": {
        "colab": {
          "base_uri": "https://localhost:8080/"
        },
        "id": "IJuQ7gY6dWSy",
        "outputId": "9029f5b9-df23-4278-bd8d-502d770d8b96"
      },
      "source": [
        "#iteration\n",
        "\n",
        "for x in range(-20,-7):\n",
        "  print(\"python\",x)"
      ],
      "execution_count": null,
      "outputs": [
        {
          "output_type": "stream",
          "text": [
            "python -20\n",
            "python -19\n",
            "python -18\n",
            "python -17\n",
            "python -16\n",
            "python -15\n",
            "python -14\n",
            "python -13\n",
            "python -12\n",
            "python -11\n",
            "python -10\n",
            "python -9\n",
            "python -8\n"
          ],
          "name": "stdout"
        }
      ]
    },
    {
      "cell_type": "code",
      "metadata": {
        "colab": {
          "base_uri": "https://localhost:8080/"
        },
        "id": "7qDO4Hktdft9",
        "outputId": "171aa316-504f-4322-82c2-53129f572ff7"
      },
      "source": [
        "#iteration\n",
        "\n",
        "for x in range(15,-20,-5):\n",
        "  print(\"python\",x)"
      ],
      "execution_count": null,
      "outputs": [
        {
          "output_type": "stream",
          "text": [
            "python 15\n",
            "python 10\n",
            "python 5\n",
            "python 0\n",
            "python -5\n",
            "python -10\n",
            "python -15\n"
          ],
          "name": "stdout"
        }
      ]
    },
    {
      "cell_type": "code",
      "metadata": {
        "colab": {
          "base_uri": "https://localhost:8080/"
        },
        "id": "v4Tg3DFCeuqM",
        "outputId": "379cc136-5c79-4851-965b-dd07e7db36e9"
      },
      "source": [
        "for x in \"Welcome\":\n",
        "  print(\"python\",x)\n",
        "  print(\"hi\")"
      ],
      "execution_count": null,
      "outputs": [
        {
          "output_type": "stream",
          "text": [
            "python W\n",
            "hi\n",
            "python e\n",
            "hi\n",
            "python l\n",
            "hi\n",
            "python c\n",
            "hi\n",
            "python o\n",
            "hi\n",
            "python m\n",
            "hi\n",
            "python e\n",
            "hi\n"
          ],
          "name": "stdout"
        }
      ]
    },
    {
      "cell_type": "code",
      "metadata": {
        "colab": {
          "base_uri": "https://localhost:8080/"
        },
        "id": "2B3DMt3rfUEn",
        "outputId": "a8d09fd3-b8e5-4fa8-8620-0e237a426cdc"
      },
      "source": [
        "#while\n",
        "\n",
        "a=0\n",
        "while (a<10):\n",
        "  print(\"python\")\n",
        "  a=a+1"
      ],
      "execution_count": null,
      "outputs": [
        {
          "output_type": "stream",
          "text": [
            "python\n",
            "python\n",
            "python\n",
            "python\n",
            "python\n",
            "python\n",
            "python\n",
            "python\n",
            "python\n",
            "python\n"
          ],
          "name": "stdout"
        }
      ]
    },
    {
      "cell_type": "code",
      "metadata": {
        "colab": {
          "base_uri": "https://localhost:8080/",
          "height": 178
        },
        "id": "tfnHRhJxfg0p",
        "outputId": "d9a50a81-d2ce-4b9e-e056-e8de4ae5b35c"
      },
      "source": [
        "#while range(10):\n",
        " # print(\"python\")  infinite loop\n",
        "\n",
        " "
      ],
      "execution_count": null,
      "outputs": [
        {
          "output_type": "error",
          "ename": "NameError",
          "evalue": "ignored",
          "traceback": [
            "\u001b[0;31m---------------------------------------------------------------------------\u001b[0m",
            "\u001b[0;31mNameError\u001b[0m                                 Traceback (most recent call last)",
            "\u001b[0;32m<ipython-input-20-0ed0e0081905>\u001b[0m in \u001b[0;36m<module>\u001b[0;34m()\u001b[0m\n\u001b[1;32m      1\u001b[0m \u001b[0;32mwhile\u001b[0m \u001b[0mrange\u001b[0m\u001b[0;34m(\u001b[0m\u001b[0;36m10\u001b[0m\u001b[0;34m)\u001b[0m\u001b[0;34m:\u001b[0m\u001b[0;34m\u001b[0m\u001b[0;34m\u001b[0m\u001b[0m\n\u001b[0;32m----> 2\u001b[0;31m   \u001b[0mprnit\u001b[0m\u001b[0;34m(\u001b[0m\u001b[0;34m\"python\"\u001b[0m\u001b[0;34m)\u001b[0m\u001b[0;34m\u001b[0m\u001b[0;34m\u001b[0m\u001b[0m\n\u001b[0m",
            "\u001b[0;31mNameError\u001b[0m: name 'prnit' is not defined"
          ]
        }
      ]
    },
    {
      "cell_type": "code",
      "metadata": {
        "colab": {
          "base_uri": "https://localhost:8080/"
        },
        "id": "3J_Vk1-weFvK",
        "outputId": "222c6e36-9c8e-4862-a641-36b6701f42ca"
      },
      "source": [
        "#while(condition):\n",
        "#body of the while loop\n",
        "a=0\n",
        "while a in range(10):\n",
        "  print(\"python\")\n",
        "  a=a+1"
      ],
      "execution_count": null,
      "outputs": [
        {
          "output_type": "stream",
          "text": [
            "python\n",
            "python\n",
            "python\n",
            "python\n",
            "python\n",
            "python\n",
            "python\n",
            "python\n",
            "python\n",
            "python\n"
          ],
          "name": "stdout"
        }
      ]
    },
    {
      "cell_type": "code",
      "metadata": {
        "colab": {
          "base_uri": "https://localhost:8080/"
        },
        "id": "ZS-hsnW1fMd9",
        "outputId": "e5795c85-efb3-408e-db7a-0b63892ea1e4"
      },
      "source": [
        "def countdown(n):\n",
        "  while n>0:\n",
        "    print(n)\n",
        "    n=n-1;\n",
        "  print(\"blastoff!\")\n",
        "\n",
        "countdown(10)"
      ],
      "execution_count": null,
      "outputs": [
        {
          "output_type": "stream",
          "text": [
            "10\n",
            "9\n",
            "8\n",
            "7\n",
            "6\n",
            "5\n",
            "4\n",
            "3\n",
            "2\n",
            "1\n",
            "blastoff!\n"
          ],
          "name": "stdout"
        }
      ]
    },
    {
      "cell_type": "code",
      "metadata": {
        "colab": {
          "base_uri": "https://localhost:8080/"
        },
        "id": "-r1jt2tzgQ2f",
        "outputId": "5508401d-18a7-4bd8-dc1d-e52208e65543"
      },
      "source": [
        "for x in range(10):\n",
        "  if x==5:\n",
        "    break\n",
        "  print(\"pyhton\",x)"
      ],
      "execution_count": null,
      "outputs": [
        {
          "output_type": "stream",
          "text": [
            "pyhton 0\n",
            "pyhton 1\n",
            "pyhton 2\n",
            "pyhton 3\n",
            "pyhton 4\n"
          ],
          "name": "stdout"
        }
      ]
    },
    {
      "cell_type": "code",
      "metadata": {
        "colab": {
          "base_uri": "https://localhost:8080/"
        },
        "id": "5LKVjo8yiBUj",
        "outputId": "3533b37b-3486-4179-b2e7-b64c8e9954cf"
      },
      "source": [
        "for x in range(10):\n",
        "  if x==5:\n",
        "    continue\n",
        "  print(\"pyhton\",x)"
      ],
      "execution_count": null,
      "outputs": [
        {
          "output_type": "stream",
          "text": [
            "pyhton 0\n",
            "pyhton 1\n",
            "pyhton 2\n",
            "pyhton 3\n",
            "pyhton 4\n",
            "pyhton 6\n",
            "pyhton 7\n",
            "pyhton 8\n",
            "pyhton 9\n"
          ],
          "name": "stdout"
        }
      ]
    },
    {
      "cell_type": "code",
      "metadata": {
        "id": "2m94PFxeiV5y"
      },
      "source": [
        "while True:\n",
        "  line = input('>')\n",
        "  if line == 'done':\n",
        "    break\n",
        "  print(line)\n",
        "\n",
        "print(\"Done!\")"
      ],
      "execution_count": null,
      "outputs": []
    },
    {
      "cell_type": "code",
      "metadata": {
        "colab": {
          "base_uri": "https://localhost:8080/"
        },
        "id": "_pUxhbARlSKy",
        "outputId": "b06786ea-bbba-4759-b4f8-4b71df4b86a9"
      },
      "source": [
        "#binary\n",
        "a=0b01010\n",
        "print(a)"
      ],
      "execution_count": null,
      "outputs": [
        {
          "output_type": "stream",
          "text": [
            "10\n"
          ],
          "name": "stdout"
        }
      ]
    },
    {
      "cell_type": "code",
      "metadata": {
        "colab": {
          "base_uri": "https://localhost:8080/"
        },
        "id": "LZ4v2Vellg4-",
        "outputId": "5678904c-86a1-4cb5-901a-a1603283eb54"
      },
      "source": [
        "#octal\n",
        "a=0o01234\n",
        "print(a)"
      ],
      "execution_count": null,
      "outputs": [
        {
          "output_type": "stream",
          "text": [
            "668\n"
          ],
          "name": "stdout"
        }
      ]
    },
    {
      "cell_type": "code",
      "metadata": {
        "colab": {
          "base_uri": "https://localhost:8080/"
        },
        "id": "jc7wQBbOl-7w",
        "outputId": "bb6a5367-d233-407e-88d8-525d7e80ddf0"
      },
      "source": [
        "#hexadecimal no\n",
        "a=0x24af\n",
        "print(a)"
      ],
      "execution_count": null,
      "outputs": [
        {
          "output_type": "stream",
          "text": [
            "9391\n"
          ],
          "name": "stdout"
        }
      ]
    },
    {
      "cell_type": "code",
      "metadata": {
        "colab": {
          "base_uri": "https://localhost:8080/"
        },
        "id": "A3-McGPLms7z",
        "outputId": "ea9bf0fc-59f5-4163-d4cb-f4e19b58d0c5"
      },
      "source": [
        "n=112\n",
        "print(bin(n))\n",
        "print(oct(n))\n",
        "print(hex(n))\n"
      ],
      "execution_count": null,
      "outputs": [
        {
          "output_type": "stream",
          "text": [
            "0b1110000\n",
            "0o160\n",
            "0x70\n"
          ],
          "name": "stdout"
        }
      ]
    },
    {
      "cell_type": "code",
      "metadata": {
        "colab": {
          "base_uri": "https://localhost:8080/"
        },
        "id": "NFNIUKbnnfrZ",
        "outputId": "9722ee79-cf93-4021-81df-904eee6ed666"
      },
      "source": [
        "#ascii  value\n",
        "\n",
        "c=input(\"Enter a char\")\n",
        "print(ord(c))"
      ],
      "execution_count": null,
      "outputs": [
        {
          "output_type": "stream",
          "text": [
            "Enter a chara\n",
            "97\n"
          ],
          "name": "stdout"
        }
      ]
    },
    {
      "cell_type": "code",
      "metadata": {
        "colab": {
          "base_uri": "https://localhost:8080/"
        },
        "id": "tgaG4KHD9yeK",
        "outputId": "e26bf594-94bc-40bc-ccc8-8782f1c82431"
      },
      "source": [
        "a=\"abc\"\n",
        "print(type(a))"
      ],
      "execution_count": null,
      "outputs": [
        {
          "output_type": "stream",
          "text": [
            "<class 'str'>\n"
          ],
          "name": "stdout"
        }
      ]
    },
    {
      "cell_type": "code",
      "metadata": {
        "colab": {
          "base_uri": "https://localhost:8080/"
        },
        "id": "oIoH0FI7_IGh",
        "outputId": "1633a149-8dab-4e9c-f5cf-8a85ec5722b0"
      },
      "source": [
        "b=\"python pr  ng\"\n",
        "print(b[16])\n",
        "print(b[-6])\n",
        "#slicing concept -[:]\n",
        "print(b[2:4])\n",
        "print(b[:4])\n",
        "print(b[2:])\n",
        "print(b[:])\n",
        "print(b[2:15:2])\n",
        "print(b[-9:-2])\n",
        "print(b[-9:])\n",
        "print(b[:-1])"
      ],
      "execution_count": null,
      "outputs": [
        {
          "output_type": "stream",
          "text": [
            "n\n",
            "a\n",
            "th\n",
            "pyth\n",
            "thon programming\n",
            "python programming\n",
            "to rgam\n",
            "ogrammi\n",
            "ogramming\n",
            "python programmin\n"
          ],
          "name": "stdout"
        }
      ]
    },
    {
      "cell_type": "code",
      "metadata": {
        "colab": {
          "base_uri": "https://localhost:8080/"
        },
        "id": "ngENbrriDMWD",
        "outputId": "9b5dee94-4683-42b3-99bc-317c76cbeca0"
      },
      "source": [
        "print(len(b))\n",
        "#strip remove spaces from start and end only in a string\n",
        "s=\"      python       \"\n",
        "print(len(s))\n",
        "print(s.strip())\n",
        "print(len(s.strip()))\n",
        "a=\"******** python ******\"\n",
        "print(a.strip(\"*\"))\n",
        "#lstrip rstrip\n",
        "\n",
        "p=\"%%%%%%%% python @@@@@@@@@@@@\"\n",
        "print(p.lstrip(\"%\"))\n",
        "print((p.rstrip(\"@\")))\n",
        "y=p.lstrip('%').rstrip('@')\n",
        "print(\"y is\",y)\n",
        "print(p.strip('@'))\n",
        "print(a.rstrip('*'))"
      ],
      "execution_count": null,
      "outputs": [
        {
          "output_type": "stream",
          "text": [
            "18\n",
            "19\n",
            "python\n",
            "6\n",
            " python \n",
            " python @@@@@@@@@@@@\n",
            "%%%%%%%% python \n",
            "y is  python \n",
            "%%%%%%%% python \n",
            "******** python \n"
          ],
          "name": "stdout"
        }
      ]
    },
    {
      "cell_type": "code",
      "metadata": {
        "id": "FI626WWRES3R",
        "colab": {
          "base_uri": "https://localhost:8080/"
        },
        "outputId": "7448105a-645a-46a1-94be-4e008c29ba2b"
      },
      "source": [
        "#square root of 4  a = no   x= underoot power\n",
        "#y=(x+a/x)/2\n",
        "x=2\n",
        "a=16\n",
        "while True:\n",
        "  print(x)\n",
        "  y=(x+a/x)/2\n",
        "  if(y==x):\n",
        "    break\n",
        "  x=y\n"
      ],
      "execution_count": null,
      "outputs": [
        {
          "output_type": "stream",
          "text": [
            "2\n",
            "5.0\n",
            "4.1\n",
            "4.001219512195122\n",
            "4.0000001858445895\n",
            "4.000000000000004\n",
            "4.0\n"
          ],
          "name": "stdout"
        }
      ]
    },
    {
      "cell_type": "code",
      "metadata": {
        "colab": {
          "base_uri": "https://localhost:8080/"
        },
        "id": "yDVLpml2jNE7",
        "outputId": "1a2a3720-1af4-4622-e81f-2e46bd4b98a0"
      },
      "source": [
        "#access one character of string using []\n",
        "#value of index should be integer >=0\n",
        "fruit=\"banana\"\n",
        "print(fruit[1])"
      ],
      "execution_count": null,
      "outputs": [
        {
          "output_type": "stream",
          "text": [
            "a\n"
          ],
          "name": "stdout"
        }
      ]
    },
    {
      "cell_type": "code",
      "metadata": {
        "colab": {
          "base_uri": "https://localhost:8080/"
        },
        "id": "jydvqqeWjh5x",
        "outputId": "5fba997b-f9de-4500-e106-796b60e3c400"
      },
      "source": [
        "fruit=\"banana is a fruit\"\n",
        "print(len(fruit))"
      ],
      "execution_count": null,
      "outputs": [
        {
          "output_type": "stream",
          "text": [
            "17\n"
          ],
          "name": "stdout"
        }
      ]
    },
    {
      "cell_type": "code",
      "metadata": {
        "colab": {
          "base_uri": "https://localhost:8080/"
        },
        "id": "H0HOTS8PlAfA",
        "outputId": "b3205478-d2fc-4fca-9fe1-5c67d7741a5a"
      },
      "source": [
        "fruit = [\"apple\",\"banana\",\"cherry\"]\n",
        "for x in fruit:\n",
        "  print(x)"
      ],
      "execution_count": null,
      "outputs": [
        {
          "output_type": "stream",
          "text": [
            "apple\n",
            "banana\n",
            "cherry\n"
          ],
          "name": "stdout"
        }
      ]
    },
    {
      "cell_type": "code",
      "metadata": {
        "colab": {
          "base_uri": "https://localhost:8080/"
        },
        "id": "G5f-BGv2lP-4",
        "outputId": "6f86718a-0adf-44f5-82e2-36f1dac314ad"
      },
      "source": [
        "fruit =\"banana\"\n",
        "for x in fruit:\n",
        "  print(x)"
      ],
      "execution_count": null,
      "outputs": [
        {
          "output_type": "stream",
          "text": [
            "b\n",
            "a\n",
            "n\n",
            "a\n",
            "n\n",
            "a\n"
          ],
          "name": "stdout"
        }
      ]
    },
    {
      "cell_type": "code",
      "metadata": {
        "colab": {
          "base_uri": "https://localhost:8080/"
        },
        "id": "Vf6CkAngllEW",
        "outputId": "83220a6e-7175-4348-ef01-a1340b58d610"
      },
      "source": [
        "pre=\"JKLMNOPQ\"\n",
        "suf=\"ack\"\n",
        "for l in pre:\n",
        "  print(l+suf) #concatenation"
      ],
      "execution_count": null,
      "outputs": [
        {
          "output_type": "stream",
          "text": [
            "Jack\n",
            "Kack\n",
            "Lack\n",
            "Mack\n",
            "Nack\n",
            "Oack\n",
            "Pack\n",
            "Qack\n"
          ],
          "name": "stdout"
        }
      ]
    },
    {
      "cell_type": "code",
      "metadata": {
        "colab": {
          "base_uri": "https://localhost:8080/"
        },
        "id": "o5Eh2bazmXQZ",
        "outputId": "41d6d636-4165-4615-e2cf-2d18b2fb116a"
      },
      "source": [
        "fruit = [\"apple\",\"banana\",\"cherry\"]\n",
        "for x in fruit:\n",
        "  if x==\"banana\":\n",
        "    break\n",
        "\n",
        "  print(x)"
      ],
      "execution_count": null,
      "outputs": [
        {
          "output_type": "stream",
          "text": [
            "apple\n"
          ],
          "name": "stdout"
        }
      ]
    },
    {
      "cell_type": "code",
      "metadata": {
        "colab": {
          "base_uri": "https://localhost:8080/"
        },
        "id": "yOIQX14zmqqe",
        "outputId": "90c9e1a0-152a-468b-fe0c-87860f22295d"
      },
      "source": [
        "array = [10, 20 ,30,40]\n",
        "x=0\n",
        "\n",
        "for j in array:\n",
        "  x=x+j\n",
        "print(x)"
      ],
      "execution_count": null,
      "outputs": [
        {
          "output_type": "stream",
          "text": [
            "100\n"
          ],
          "name": "stdout"
        }
      ]
    },
    {
      "cell_type": "code",
      "metadata": {
        "colab": {
          "base_uri": "https://localhost:8080/"
        },
        "id": "WkuBw4w6m5Ig",
        "outputId": "495e146d-383c-4090-efde-7099ac340b07"
      },
      "source": [
        "lst = []\n",
        "n= int(input(\"Enter the no of ele\"))\n",
        "for i in range (0,n):\n",
        "  x =int(input())\n",
        "  lst.append(x)\n",
        "\n",
        "print(lst)"
      ],
      "execution_count": null,
      "outputs": [
        {
          "output_type": "stream",
          "text": [
            "Enter the no of ele5\n",
            "1\n",
            "2\n",
            "3\n",
            "4\n",
            "5\n",
            "[1, 2, 3, 4, 5]\n"
          ],
          "name": "stdout"
        }
      ]
    },
    {
      "cell_type": "code",
      "metadata": {
        "colab": {
          "base_uri": "https://localhost:8080/",
          "height": 35
        },
        "id": "XQwwIN2cnbEv",
        "outputId": "706ab83d-1958-46db-e915-cee977bec401"
      },
      "source": [
        "#string slicing\n",
        "s='Monty python'\n",
        "#s[0:5]\n",
        "s[6:12]"
      ],
      "execution_count": null,
      "outputs": [
        {
          "output_type": "execute_result",
          "data": {
            "application/vnd.google.colaboratory.intrinsic+json": {
              "type": "string"
            },
            "text/plain": [
              "'python'"
            ]
          },
          "metadata": {
            "tags": []
          },
          "execution_count": 23
        }
      ]
    },
    {
      "cell_type": "code",
      "metadata": {
        "colab": {
          "base_uri": "https://localhost:8080/"
        },
        "id": "3c8gjKRuAoT5",
        "outputId": "0a95e2f4-d07b-49bf-e2b6-fa75cfb46663"
      },
      "source": [
        "s=\"python program\"\n",
        "s1=\"j\"+s[1:]\n",
        "print(s1)\n",
        "\n",
        "\n",
        "a=\"abc\"\n",
        "b=\"abc\"\n",
        "print(id(a))\n",
        "print(id(b))"
      ],
      "execution_count": null,
      "outputs": [
        {
          "output_type": "stream",
          "text": [
            "jython program\n",
            "139696747396208\n",
            "139696747396208\n"
          ],
          "name": "stdout"
        }
      ]
    },
    {
      "cell_type": "code",
      "metadata": {
        "colab": {
          "base_uri": "https://localhost:8080/"
        },
        "id": "sVeTKV-BBZVE",
        "outputId": "f2014b38-2626-4791-e3fc-6f597a8fd847"
      },
      "source": [
        "#searching a string\n",
        "\n",
        "def find1(word,letter):\n",
        "  index=0\n",
        "  while index<len(word):\n",
        "    if word[index]==letter:\n",
        "      return index\n",
        "    index=index+1\n",
        "  return -1\n",
        "\n",
        "find1(\"apple\",\"l\")"
      ],
      "execution_count": null,
      "outputs": [
        {
          "output_type": "execute_result",
          "data": {
            "text/plain": [
              "3"
            ]
          },
          "metadata": {
            "tags": []
          },
          "execution_count": 3
        }
      ]
    },
    {
      "cell_type": "code",
      "metadata": {
        "colab": {
          "base_uri": "https://localhost:8080/"
        },
        "id": "xD88SW_VCRns",
        "outputId": "50a5ef5c-3f9b-4417-a08e-73e57b1edcdd"
      },
      "source": [
        "#looping and counting \n",
        "#count no recurrence of letter\n",
        "\n",
        "word = 'banana'\n",
        "c=0\n",
        "for x in word:\n",
        "  if (x=='n'):\n",
        "    c=c+1\n",
        "print(c)"
      ],
      "execution_count": null,
      "outputs": [
        {
          "output_type": "stream",
          "text": [
            "2\n"
          ],
          "name": "stdout"
        }
      ]
    },
    {
      "cell_type": "code",
      "metadata": {
        "colab": {
          "base_uri": "https://localhost:8080/"
        },
        "id": "Sm26sya2DBAQ",
        "outputId": "e200ea41-6c62-444a-9aff-02da04e7b612"
      },
      "source": [
        "#find in a built in function\n",
        "s=\"Python programming\"\n",
        "print(s.find(\"program\"))"
      ],
      "execution_count": null,
      "outputs": [
        {
          "output_type": "stream",
          "text": [
            "7\n"
          ],
          "name": "stdout"
        }
      ]
    },
    {
      "cell_type": "code",
      "metadata": {
        "colab": {
          "base_uri": "https://localhost:8080/",
          "height": 35
        },
        "id": "v31olWDvDQMa",
        "outputId": "fa32b5e1-b006-4eff-cbd4-e43f06e403c0"
      },
      "source": [
        "#string method\n",
        "word='banana'\n",
        "nword=word.upper()\n",
        "nword"
      ],
      "execution_count": null,
      "outputs": [
        {
          "output_type": "execute_result",
          "data": {
            "application/vnd.google.colaboratory.intrinsic+json": {
              "type": "string"
            },
            "text/plain": [
              "'BANANA'"
            ]
          },
          "metadata": {
            "tags": []
          },
          "execution_count": 8
        }
      ]
    },
    {
      "cell_type": "code",
      "metadata": {
        "colab": {
          "base_uri": "https://localhost:8080/",
          "height": 229
        },
        "id": "f3S4gIPrDo0y",
        "outputId": "73ae9098-f9eb-42cc-e65d-d26e57a3c318"
      },
      "source": [
        "s='Java'\n",
        "\n",
        "print(s.isalpha())\n",
        "print(s.isdigit())\n",
        "print(s.index('a'))\n",
        "print(q)"
      ],
      "execution_count": null,
      "outputs": [
        {
          "output_type": "error",
          "ename": "NameError",
          "evalue": "ignored",
          "traceback": [
            "\u001b[0;31m---------------------------------------------------------------------------\u001b[0m",
            "\u001b[0;31mNameError\u001b[0m                                 Traceback (most recent call last)",
            "\u001b[0;32m<ipython-input-4-c1ba857fe86e>\u001b[0m in \u001b[0;36m<module>\u001b[0;34m()\u001b[0m\n\u001b[1;32m      1\u001b[0m \u001b[0ms\u001b[0m\u001b[0;34m=\u001b[0m\u001b[0;34m'Java'\u001b[0m\u001b[0;34m\u001b[0m\u001b[0;34m\u001b[0m\u001b[0m\n\u001b[0;32m----> 2\u001b[0;31m \u001b[0mq\u001b[0m\u001b[0;34m=\u001b[0m\u001b[0mtolower\u001b[0m\u001b[0;34m(\u001b[0m\u001b[0ms\u001b[0m\u001b[0;34m)\u001b[0m\u001b[0;34m\u001b[0m\u001b[0;34m\u001b[0m\u001b[0m\n\u001b[0m\u001b[1;32m      3\u001b[0m \u001b[0;34m\u001b[0m\u001b[0m\n\u001b[1;32m      4\u001b[0m \u001b[0mprint\u001b[0m\u001b[0;34m(\u001b[0m\u001b[0ms\u001b[0m\u001b[0;34m.\u001b[0m\u001b[0misalpha\u001b[0m\u001b[0;34m(\u001b[0m\u001b[0;34m)\u001b[0m\u001b[0;34m)\u001b[0m\u001b[0;34m\u001b[0m\u001b[0;34m\u001b[0m\u001b[0m\n\u001b[1;32m      5\u001b[0m \u001b[0mprint\u001b[0m\u001b[0;34m(\u001b[0m\u001b[0ms\u001b[0m\u001b[0;34m.\u001b[0m\u001b[0misdigit\u001b[0m\u001b[0;34m(\u001b[0m\u001b[0;34m)\u001b[0m\u001b[0;34m)\u001b[0m\u001b[0;34m\u001b[0m\u001b[0;34m\u001b[0m\u001b[0m\n",
            "\u001b[0;31mNameError\u001b[0m: name 'tolower' is not defined"
          ]
        }
      ]
    },
    {
      "cell_type": "code",
      "metadata": {
        "colab": {
          "base_uri": "https://localhost:8080/"
        },
        "id": "fGPHBEGhEcGw",
        "outputId": "0d4c6751-af5d-4ad1-ca20-3db1c85e20c1"
      },
      "source": [
        "#in operator  not in operator\n",
        "'a' in 'banana'"
      ],
      "execution_count": null,
      "outputs": [
        {
          "output_type": "execute_result",
          "data": {
            "text/plain": [
              "True"
            ]
          },
          "metadata": {
            "tags": []
          },
          "execution_count": 13
        }
      ]
    },
    {
      "cell_type": "code",
      "metadata": {
        "colab": {
          "base_uri": "https://localhost:8080/"
        },
        "id": "Bl7uGgXsElaE",
        "outputId": "dd89db2f-c0ff-47b9-f9e3-1303e07c0d6a"
      },
      "source": [
        "def in_both(word1,word2):\n",
        "  for l in word1:\n",
        "    if l in word2:\n",
        "      print(l)\n",
        "\n",
        "\n",
        "in_both(\"apples\",\"oranges\")"
      ],
      "execution_count": null,
      "outputs": [
        {
          "output_type": "stream",
          "text": [
            "a\n",
            "e\n",
            "s\n"
          ],
          "name": "stdout"
        }
      ]
    },
    {
      "cell_type": "code",
      "metadata": {
        "colab": {
          "base_uri": "https://localhost:8080/"
        },
        "id": "4IkA8rlcFwi6",
        "outputId": "9ee8624f-5b7e-44e0-ef83-4a5744f3b713"
      },
      "source": [
        "#relational operators\n",
        "word = \"pineapple\"\n",
        "if word < 'banana':\n",
        "  print('your word ' + word + ' comes before banana' )\n",
        "elif word > 'banana':\n",
        "  print('your word ' + word + ' comes after banana' )\n",
        "else:\n",
        "  print(\"no result\")\n",
        "\n",
        "#based on ascii no\n",
        "print(ord('P'))"
      ],
      "execution_count": null,
      "outputs": [
        {
          "output_type": "stream",
          "text": [
            "your word pineapple comes after banana\n",
            "80\n"
          ],
          "name": "stdout"
        }
      ]
    },
    {
      "cell_type": "code",
      "metadata": {
        "colab": {
          "base_uri": "https://localhost:8080/"
        },
        "id": "-N3PT_2uHP3O",
        "outputId": "74a462bc-45b8-4fb0-e631-75c935dd639a"
      },
      "source": [
        "w='abc'\n",
        "print(w*10)\n",
        "s=\"an english sentence\"\n",
        "s1=s.split()#split it base on spaces if no arguement is given\n",
        "print(s1)"
      ],
      "execution_count": null,
      "outputs": [
        {
          "output_type": "stream",
          "text": [
            "abcabcabcabcabcabcabcabcabcabc\n",
            "['an', 'english', 'sentence']\n"
          ],
          "name": "stdout"
        }
      ]
    },
    {
      "cell_type": "code",
      "metadata": {
        "colab": {
          "base_uri": "https://localhost:8080/"
        },
        "id": "hQlNVBtdH4Bo",
        "outputId": "02de0f71-b8cd-41ec-b438-a3bf2bbab8b5"
      },
      "source": [
        "a = \"Python programmin class\"\n",
        "w=a.split()\n",
        "w.sort()\n",
        "for w1 in w:\n",
        "  print(w1)"
      ],
      "execution_count": null,
      "outputs": [
        {
          "output_type": "stream",
          "text": [
            "Python\n",
            "class\n",
            "programmin\n"
          ],
          "name": "stdout"
        }
      ]
    },
    {
      "cell_type": "code",
      "metadata": {
        "id": "vLxW0UbyI9eC",
        "colab": {
          "base_uri": "https://localhost:8080/",
          "height": 35
        },
        "outputId": "bf881b59-29bf-4bc2-c3e2-4f21ccf90f26"
      },
      "source": [
        "\n",
        "s='spammy'\n",
        "s[:3]+'xx'+s[5:]\n"
      ],
      "execution_count": null,
      "outputs": [
        {
          "output_type": "execute_result",
          "data": {
            "application/vnd.google.colaboratory.intrinsic+json": {
              "type": "string"
            },
            "text/plain": [
              "'spaxxy'"
            ]
          },
          "metadata": {
            "tags": []
          },
          "execution_count": 16
        }
      ]
    },
    {
      "cell_type": "code",
      "metadata": {
        "colab": {
          "base_uri": "https://localhost:8080/",
          "height": 35
        },
        "id": "LONN-mRVNdYy",
        "outputId": "0b797ddb-55a3-4207-d514-8dbd7b489471"
      },
      "source": [
        "S='abcdefghijklmnop'\n",
        "S[1:10:2]\n"
      ],
      "execution_count": null,
      "outputs": [
        {
          "output_type": "execute_result",
          "data": {
            "application/vnd.google.colaboratory.intrinsic+json": {
              "type": "string"
            },
            "text/plain": [
              "'bdfhj'"
            ]
          },
          "metadata": {
            "tags": []
          },
          "execution_count": 14
        }
      ]
    }
  ]
}