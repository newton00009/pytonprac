{
  "nbformat": 4,
  "nbformat_minor": 0,
  "metadata": {
    "colab": {
      "name": "coreelective.ipynb",
      "provenance": [],
      "collapsed_sections": [],
      "authorship_tag": "ABX9TyO134M6ZBlniJK3v2yEk4uc",
      "include_colab_link": true
    },
    "kernelspec": {
      "name": "python3",
      "display_name": "Python 3"
    },
    "language_info": {
      "name": "python"
    }
  },
  "cells": [
    {
      "cell_type": "markdown",
      "metadata": {
        "id": "view-in-github",
        "colab_type": "text"
      },
      "source": [
        "<a href=\"https://colab.research.google.com/github/newton00009/pytonprac/blob/main/coreelective.ipynb\" target=\"_parent\"><img src=\"https://colab.research.google.com/assets/colab-badge.svg\" alt=\"Open In Colab\"/></a>"
      ]
    },
    {
      "cell_type": "code",
      "metadata": {
        "colab": {
          "base_uri": "https://localhost:8080/"
        },
        "id": "Z-4EQZ6RD40e",
        "outputId": "e21b7e4a-767b-4fae-c5bb-8136adf77ade"
      },
      "source": [
        "p=int(input(\"Enter p \"))\n",
        "r=int(input(\"Enter r \"))\n",
        "t=int(input(\"Enter t \"))\n",
        "\n",
        "print(\"Simple interest is \",p*r*t/100)"
      ],
      "execution_count": null,
      "outputs": [
        {
          "output_type": "stream",
          "text": [
            "Enter p1000\n",
            "Enter r2\n",
            "Enter t5\n",
            "Simple interest is  100.0\n"
          ],
          "name": "stdout"
        }
      ]
    },
    {
      "cell_type": "code",
      "metadata": {
        "colab": {
          "base_uri": "https://localhost:8080/"
        },
        "id": "oNIMLVSfERPI",
        "outputId": "fc931acd-686d-45cc-ad09-aac7b4022f4d"
      },
      "source": [
        "a=int(input(\"Enter 1st number \"))\n",
        "b=int(input(\"Enter 2nd number \" ))\n",
        "print(\"A+b = \",a+b)\n",
        "print(\"A-b = \",a-b)\n",
        "print(\"A*b = \",a*b)\n",
        "print(\"A/b = \",a/b)"
      ],
      "execution_count": null,
      "outputs": [
        {
          "output_type": "stream",
          "text": [
            "Enter 1st number10\n",
            "Enter 2nd number5\n",
            "A+b = 15\n",
            "A-b = 5\n",
            "A*b = 50\n",
            "A/b = 2.0\n"
          ],
          "name": "stdout"
        }
      ]
    },
    {
      "cell_type": "code",
      "metadata": {
        "colab": {
          "base_uri": "https://localhost:8080/"
        },
        "id": "PcTrsV6lE17F",
        "outputId": "d63ed6a1-950c-4e69-9b05-2dfb49e4d3db"
      },
      "source": [
        "r=int(input(\"Enter radius\"))\n",
        "print(\"Area of circle is %.3f\"  %(3.1415*r*r) )"
      ],
      "execution_count": null,
      "outputs": [
        {
          "output_type": "stream",
          "text": [
            "Enter radius10\n",
            "Area of circle is 314.150\n"
          ],
          "name": "stdout"
        }
      ]
    },
    {
      "cell_type": "code",
      "metadata": {
        "colab": {
          "base_uri": "https://localhost:8080/"
        },
        "id": "KAotasEsFQfF",
        "outputId": "e01e2a2e-4cac-4caf-9d56-a4c3bc20b058"
      },
      "source": [
        "a=int(input(\"enter 1st no \"))\n",
        "b=int(input(\"enter 2nd no \"))\n",
        "c=int(input(\"enter 3rd no \"))\n",
        "a,b,c=c,a,b\n",
        "print(\"1st 2nd 3rd swapped are =\",a , b,c,sep=\" \")\n"
      ],
      "execution_count": null,
      "outputs": [
        {
          "output_type": "stream",
          "text": [
            "enter 1st no 10\n",
            "enter 2nd no 20\n",
            "enter 3rd no 30\n",
            "1st 2nd 3rd swapped are = 30 10 20\n"
          ],
          "name": "stdout"
        }
      ]
    },
    {
      "cell_type": "code",
      "metadata": {
        "id": "lb00SmVVSR17",
        "colab": {
          "base_uri": "https://localhost:8080/"
        },
        "outputId": "60601644-5806-43b7-8a3f-afe57db6ac5d"
      },
      "source": [
        "import math\n",
        "x=int(input(\"Enter no\"))\n",
        "print(math.sqrt(x),\"or\",x**.5)"
      ],
      "execution_count": null,
      "outputs": [
        {
          "output_type": "stream",
          "text": [
            "Enter no25\n",
            "5.0 or 5.0\n"
          ],
          "name": "stdout"
        }
      ]
    },
    {
      "cell_type": "code",
      "metadata": {
        "colab": {
          "base_uri": "https://localhost:8080/"
        },
        "id": "STtdODODT4bj",
        "outputId": "d6ce1a01-1490-4d59-e7cf-30dd14f93913"
      },
      "source": [
        "a=int(input(\"enter 1st side \"))\n",
        "b=int(input(\"enter 2nd side \"))\n",
        "c=int(input(\"enter 3rd side \"))\n",
        "s=(a+b+c)/2\n",
        "\n",
        "s=s*(s-a)*(s-b)*(s-c)\n",
        "print(\"area of triangle is %.2f\"%math.sqrt(s))"
      ],
      "execution_count": null,
      "outputs": [
        {
          "output_type": "stream",
          "text": [
            "enter 1st side22\n",
            "enter 2nd side32\n",
            "enter 3rd side12\n",
            "area of triangle is 87.31\n"
          ],
          "name": "stdout"
        }
      ]
    },
    {
      "cell_type": "code",
      "metadata": {
        "colab": {
          "base_uri": "https://localhost:8080/"
        },
        "id": "Jr62L7qsUhEr",
        "outputId": "638e85ba-68e1-4270-ae75-9f9a46a6c9d3"
      },
      "source": [
        "import math\n",
        "print(\"Enter coefficients of ax^2+bx+c \\n\")\n",
        "a=int(input(\"enter a \"))\n",
        "b=int(input(\"enter b \"))\n",
        "c=int(input(\"enter c \"))\n",
        "\n",
        "d=b*b-4*a*c\n",
        "d = math.sqrt(d)\n",
        "print((-b+d)/(2*a))\n",
        "print((-b-d)/(2*a))\n",
        "\n"
      ],
      "execution_count": null,
      "outputs": [
        {
          "output_type": "stream",
          "text": [
            "Enter coefficients of ax^2+bx+c \n",
            "\n",
            "enter a 1\n",
            "enter b 5\n",
            "enter c 6\n",
            "-2.0\n",
            "-3.0\n"
          ],
          "name": "stdout"
        }
      ]
    },
    {
      "cell_type": "code",
      "metadata": {
        "colab": {
          "base_uri": "https://localhost:8080/"
        },
        "id": "n6JgqGuHFdrR",
        "outputId": "e672cc85-9c02-47ac-86a5-abb0f71a0dc9"
      },
      "source": [
        "def simpleinterest(p,r,t):\n",
        "  print(\"Simple interest is\",p*r*t/100,sep=\" \")\n",
        "\n",
        "simpleinterest( int(input(\"Enter principle \"))  , int(input(\"Enter rate \")) ,int(input(\"Enter time \"))    )\n",
        "\n"
      ],
      "execution_count": null,
      "outputs": [
        {
          "output_type": "stream",
          "text": [
            "Enter principle 1000\n",
            "Enter rate 5\n",
            "Enter time 2\n",
            "Simple interest is 100.0\n"
          ],
          "name": "stdout"
        }
      ]
    },
    {
      "cell_type": "code",
      "metadata": {
        "colab": {
          "base_uri": "https://localhost:8080/"
        },
        "id": "CeXZeI_VGXMR",
        "outputId": "0534ad43-9acb-4529-93aa-445089fefdd6"
      },
      "source": [
        "def simplecal(a,b):\n",
        "  print(\"A+b = \",a+b)\n",
        "  print(\"A-b = \",a-b)\n",
        "  print(\"A*b = \",a*b)\n",
        "  print(\"A/b = \",a/b)\n",
        "\n",
        "simplecal( int(input(\"Enter 1st no. \")),int(input(\"Enter 2nd no. \"))  )\n"
      ],
      "execution_count": null,
      "outputs": [
        {
          "output_type": "stream",
          "text": [
            "Enter 1st no. 10\n",
            "Enter 2nd no. 5\n",
            "A+b =  15\n",
            "A-b =  5\n",
            "A*b =  50\n",
            "A/b =  2.0\n"
          ],
          "name": "stdout"
        }
      ]
    },
    {
      "cell_type": "code",
      "metadata": {
        "colab": {
          "base_uri": "https://localhost:8080/"
        },
        "id": "cEMPspHWHB22",
        "outputId": "4ff92548-dad9-44d1-ed33-21c0bf500949"
      },
      "source": [
        "def circlearea(r):\n",
        "  print(\"Area of cirle = %.2f\"%(3.14*r*r))\n",
        "\n",
        "\n",
        "circlearea( int(input(\"Enter the value of radius \"))  )\n"
      ],
      "execution_count": null,
      "outputs": [
        {
          "output_type": "stream",
          "text": [
            "Enter the value of radius 10\n",
            "Area of cirle = 314.00\n"
          ],
          "name": "stdout"
        }
      ]
    },
    {
      "cell_type": "code",
      "metadata": {
        "colab": {
          "base_uri": "https://localhost:8080/"
        },
        "id": "CqgBUjU7HvIc",
        "outputId": "69fe30d6-c3ab-43d1-f9a9-b4e212ccdedd"
      },
      "source": [
        "def swap1(a,b,c):\n",
        "  a,b,c=c,a,b\n",
        "  print(\"1st 2nd 3rd swapped are =\",a , b,c,sep=\" \")\n",
        "\n",
        "swap1(int(input(\"enter 1st no \")),   int(input(\"enter 2nd no \"))   ,int(input(\"enter 3rd no \"))) "
      ],
      "execution_count": null,
      "outputs": [
        {
          "output_type": "stream",
          "text": [
            "enter 1st no 10\n",
            "enter 2nd no 20\n",
            "enter 3rd no 30\n",
            "1st 2nd 3rd swapped are = 30 10 20\n"
          ],
          "name": "stdout"
        }
      ]
    },
    {
      "cell_type": "code",
      "metadata": {
        "colab": {
          "base_uri": "https://localhost:8080/"
        },
        "id": "R_rEe0fkIeVa",
        "outputId": "30553cee-6a4a-4a7c-bcc0-6e314d47a6c6"
      },
      "source": [
        "import math as m\n",
        "def  sqrt1(x):\n",
        "  print(m.sqrt(x),\"or\",x**.5)\n",
        "\n",
        "sqrt1(int(input(\"Enter no \")))\n"
      ],
      "execution_count": null,
      "outputs": [
        {
          "output_type": "stream",
          "text": [
            "Enter no 25\n",
            "5.0 or 5.0\n"
          ],
          "name": "stdout"
        }
      ]
    },
    {
      "cell_type": "code",
      "metadata": {
        "colab": {
          "base_uri": "https://localhost:8080/"
        },
        "id": "KcNDpUAxI63i",
        "outputId": "443d00f6-1bbb-4a2f-e164-3ac5641689bf"
      },
      "source": [
        "def areaoftri(a,b,c):\n",
        "  s=(a+b+c)/2\n",
        "  s=s*(s-a)*(s-b)*(s-c)\n",
        "  print(\"area of triangle is %.2f\"%math.sqrt(s))\n",
        "\n",
        "areaoftri( int(input(\"enter 1st side \")) , int(input(\"enter 2nd side \")) ,int(input(\"enter 3rd side \"))  )"
      ],
      "execution_count": null,
      "outputs": [
        {
          "output_type": "stream",
          "text": [
            "enter 1st side 3\n",
            "enter 2nd side 4\n",
            "enter 3rd side 5\n",
            "area of triangle is 6.00\n"
          ],
          "name": "stdout"
        }
      ]
    },
    {
      "cell_type": "code",
      "metadata": {
        "colab": {
          "base_uri": "https://localhost:8080/"
        },
        "id": "dmpy5j4hJ48R",
        "outputId": "3cd311a3-def7-4344-b1b3-05fcf4036406"
      },
      "source": [
        "import math\n",
        "def rootsofeq(a,b,c):\n",
        "  d=b*b-4*a*c\n",
        "  d = math.sqrt(d)\n",
        "  print((-b+d)/(2*a))\n",
        "  print((-b-d)/(2*a))\n",
        "\n",
        "\n",
        "print(\"Enter coefficients of ax^2+bx+c \\n\")\n",
        "rootsofeq(int(input(\"enter a \")) ,int(input(\"enter b \")) ,int(input(\"enter c \")))"
      ],
      "execution_count": null,
      "outputs": [
        {
          "output_type": "stream",
          "text": [
            "Enter coefficients of ax^2+bx+c \n",
            "\n",
            "enter a 1\n",
            "enter b -5\n",
            "enter c 6\n",
            "3.0\n",
            "2.0\n"
          ],
          "name": "stdout"
        }
      ]
    },
    {
      "cell_type": "code",
      "metadata": {
        "colab": {
          "base_uri": "https://localhost:8080/"
        },
        "id": "NBqFvtYQzIoY",
        "outputId": "2fbafeaf-d293-4d53-add2-1ad50b99e38a"
      },
      "source": [
        "def func1():\n",
        "  x=int(input(\"Enter a no \"))\n",
        "  print(\"Sqrt is \",x**.5)\n",
        "\n",
        "\n",
        "func1()"
      ],
      "execution_count": null,
      "outputs": [
        {
          "output_type": "stream",
          "text": [
            "Enter a no 25\n",
            "Sqrt is  5.0\n"
          ],
          "name": "stdout"
        }
      ]
    },
    {
      "cell_type": "code",
      "metadata": {
        "id": "B4NaJzZ26R12",
        "colab": {
          "base_uri": "https://localhost:8080/"
        },
        "outputId": "0e33385d-d9db-46ee-de1f-57bb65607ec1"
      },
      "source": [
        "def disp():\n",
        "  print(\"hello\")\n",
        "\n",
        "def disp2(x):\n",
        "  print(\"Hello\",x)\n",
        "\n",
        "disp()\n",
        "disp2(\"Python Lang\")\n"
      ],
      "execution_count": null,
      "outputs": [
        {
          "output_type": "stream",
          "text": [
            "hello\n",
            "Hello Python Lang\n"
          ],
          "name": "stdout"
        }
      ]
    },
    {
      "cell_type": "code",
      "metadata": {
        "colab": {
          "base_uri": "https://localhost:8080/"
        },
        "id": "7EZJ23NvDKhZ",
        "outputId": "cbedbdcf-bc08-48e7-97ac-19e8a23920ea"
      },
      "source": [
        "def sum1(a,b):\n",
        "  print(\"Sum is\",a+b)\n",
        "\n",
        "sum1(int(input(\"Enter a no\")),int(input(\"Enter 2nd no\")))"
      ],
      "execution_count": null,
      "outputs": [
        {
          "output_type": "stream",
          "text": [
            "Enter a no6\n",
            "Enter 2nd no6\n",
            "Sum is 12\n"
          ],
          "name": "stdout"
        }
      ]
    },
    {
      "cell_type": "code",
      "metadata": {
        "colab": {
          "base_uri": "https://localhost:8080/"
        },
        "id": "LFL-WFoGEQxz",
        "outputId": "6b11d611-28a5-4f4a-c756-3f6afd0d4ead"
      },
      "source": [
        "def sum1(a,b):\n",
        "  print(\"Sum is\",a+b)\n",
        "\n",
        "def mul1(a,b):\n",
        "  print(\"Mul is\",a*b)  \n",
        "\n",
        "\n",
        "x=int(input(\"Enter a no\"))\n",
        "y=int(input(\"Enter 2nd no\"))\n",
        "sum1(x,y)  \n",
        "mul1(x,y)\n",
        "\n"
      ],
      "execution_count": null,
      "outputs": [
        {
          "output_type": "stream",
          "text": [
            "Enter a no5\n",
            "Enter 2nd no6\n",
            "Sum is 11\n",
            "Mul is 30\n"
          ],
          "name": "stdout"
        }
      ]
    },
    {
      "cell_type": "code",
      "metadata": {
        "colab": {
          "base_uri": "https://localhost:8080/"
        },
        "id": "kR08SB6tFA-1",
        "outputId": "e72631da-24b6-4d01-b1cf-6e0c3828d0d2"
      },
      "source": [
        "a,b=100,200\n",
        "def sum1(a,b):\n",
        "  print(\"Sum is\",a+b)\n",
        "\n",
        "def mul1(a,b):\n",
        "  print(\"Mul is\",a*b)  \n",
        "  print(\"Mul is\",globals()['a']*b)\n",
        "\n",
        "\n",
        "x=int(input(\"Enter a no\"))\n",
        "y=int(input(\"Enter 2nd no\"))\n",
        "sum1(x,y)  \n",
        "mul1(x,y)"
      ],
      "execution_count": null,
      "outputs": [
        {
          "output_type": "stream",
          "text": [
            "Enter a no5\n",
            "Enter 2nd no6\n",
            "Sum is 11\n",
            "Mul is 30\n",
            "Mul is 600\n"
          ],
          "name": "stdout"
        }
      ]
    },
    {
      "cell_type": "code",
      "metadata": {
        "colab": {
          "base_uri": "https://localhost:8080/"
        },
        "id": "fZUz-AqeMYJt",
        "outputId": "ae922891-c2ea-42d2-c263-5dbc2b58a347"
      },
      "source": [
        "name = \"py\"\n",
        "\n",
        "def disp():\n",
        "  print(name)\n",
        "  #name=\"JAva\"\n",
        "  print(\"hi\",name)\n",
        "\n",
        "disp()\n",
        "print(name)"
      ],
      "execution_count": null,
      "outputs": [
        {
          "output_type": "stream",
          "text": [
            "py\n",
            "hi py\n",
            "py\n"
          ],
          "name": "stdout"
        }
      ]
    },
    {
      "cell_type": "code",
      "metadata": {
        "colab": {
          "base_uri": "https://localhost:8080/"
        },
        "id": "T5arlL4zOqWu",
        "outputId": "cbbe2881-1b43-4910-e31a-e4f745e36e34"
      },
      "source": [
        "x=10\n",
        "def disp():\n",
        "  global x\n",
        "  x=x+10\n",
        "  print(x)\n",
        "\n",
        "disp()"
      ],
      "execution_count": null,
      "outputs": [
        {
          "output_type": "stream",
          "text": [
            "20\n"
          ],
          "name": "stdout"
        }
      ]
    },
    {
      "cell_type": "code",
      "metadata": {
        "colab": {
          "base_uri": "https://localhost:8080/"
        },
        "id": "xA4mUOJ2AIF9",
        "outputId": "790b5063-b5e6-4273-ae5b-04d9b304eeec"
      },
      "source": [
        " name=\"py\"\n",
        " def disp():\n",
        "  name=\"java\"\n",
        "  print(\"hi\", globals()['name'])\n",
        "\n",
        "disp()\n",
        "print(name)"
      ],
      "execution_count": null,
      "outputs": [
        {
          "output_type": "stream",
          "text": [
            "hi py\n",
            "py\n"
          ],
          "name": "stdout"
        }
      ]
    },
    {
      "cell_type": "code",
      "metadata": {
        "colab": {
          "base_uri": "https://localhost:8080/",
          "height": 52
        },
        "id": "cxKrM6GcEl04",
        "outputId": "83048a43-55ee-4dab-fa16-f5749aa1606e"
      },
      "source": [
        "\"abc\"*100"
      ],
      "execution_count": null,
      "outputs": [
        {
          "output_type": "execute_result",
          "data": {
            "application/vnd.google.colaboratory.intrinsic+json": {
              "type": "string"
            },
            "text/plain": [
              "'abcabcabcabcabcabcabcabcabcabcabcabcabcabcabcabcabcabcabcabcabcabcabcabcabcabcabcabcabcabcabcabcabcabcabcabcabcabcabcabcabcabcabcabcabcabcabcabcabcabcabcabcabcabcabcabcabcabcabcabcabcabcabcabcabcabcabcabcabcabcabcabcabcabcabcabcabcabcabcabcabcabcabcabcabcabcabcabcabcabcabcabcabcabcabcabcabcabcabcabc'"
            ]
          },
          "metadata": {
            "tags": []
          },
          "execution_count": 1
        }
      ]
    },
    {
      "cell_type": "code",
      "metadata": {
        "colab": {
          "base_uri": "https://localhost:8080/"
        },
        "id": "1ptutkKHEpg4",
        "outputId": "cc7b68d1-e0c9-48cc-eab4-c23ae21bbdd7"
      },
      "source": [
        "dir(__builtins__)"
      ],
      "execution_count": null,
      "outputs": [
        {
          "output_type": "execute_result",
          "data": {
            "text/plain": [
              "['ArithmeticError',\n",
              " 'AssertionError',\n",
              " 'AttributeError',\n",
              " 'BaseException',\n",
              " 'BlockingIOError',\n",
              " 'BrokenPipeError',\n",
              " 'BufferError',\n",
              " 'BytesWarning',\n",
              " 'ChildProcessError',\n",
              " 'ConnectionAbortedError',\n",
              " 'ConnectionError',\n",
              " 'ConnectionRefusedError',\n",
              " 'ConnectionResetError',\n",
              " 'DeprecationWarning',\n",
              " 'EOFError',\n",
              " 'Ellipsis',\n",
              " 'EnvironmentError',\n",
              " 'Exception',\n",
              " 'False',\n",
              " 'FileExistsError',\n",
              " 'FileNotFoundError',\n",
              " 'FloatingPointError',\n",
              " 'FutureWarning',\n",
              " 'GeneratorExit',\n",
              " 'IOError',\n",
              " 'ImportError',\n",
              " 'ImportWarning',\n",
              " 'IndentationError',\n",
              " 'IndexError',\n",
              " 'InterruptedError',\n",
              " 'IsADirectoryError',\n",
              " 'KeyError',\n",
              " 'KeyboardInterrupt',\n",
              " 'LookupError',\n",
              " 'MemoryError',\n",
              " 'ModuleNotFoundError',\n",
              " 'NameError',\n",
              " 'None',\n",
              " 'NotADirectoryError',\n",
              " 'NotImplemented',\n",
              " 'NotImplementedError',\n",
              " 'OSError',\n",
              " 'OverflowError',\n",
              " 'PendingDeprecationWarning',\n",
              " 'PermissionError',\n",
              " 'ProcessLookupError',\n",
              " 'RecursionError',\n",
              " 'ReferenceError',\n",
              " 'ResourceWarning',\n",
              " 'RuntimeError',\n",
              " 'RuntimeWarning',\n",
              " 'StopAsyncIteration',\n",
              " 'StopIteration',\n",
              " 'SyntaxError',\n",
              " 'SyntaxWarning',\n",
              " 'SystemError',\n",
              " 'SystemExit',\n",
              " 'TabError',\n",
              " 'TimeoutError',\n",
              " 'True',\n",
              " 'TypeError',\n",
              " 'UnboundLocalError',\n",
              " 'UnicodeDecodeError',\n",
              " 'UnicodeEncodeError',\n",
              " 'UnicodeError',\n",
              " 'UnicodeTranslateError',\n",
              " 'UnicodeWarning',\n",
              " 'UserWarning',\n",
              " 'ValueError',\n",
              " 'Warning',\n",
              " 'ZeroDivisionError',\n",
              " '__IPYTHON__',\n",
              " '__build_class__',\n",
              " '__debug__',\n",
              " '__doc__',\n",
              " '__import__',\n",
              " '__loader__',\n",
              " '__name__',\n",
              " '__package__',\n",
              " '__spec__',\n",
              " 'abs',\n",
              " 'all',\n",
              " 'any',\n",
              " 'ascii',\n",
              " 'bin',\n",
              " 'bool',\n",
              " 'breakpoint',\n",
              " 'bytearray',\n",
              " 'bytes',\n",
              " 'callable',\n",
              " 'chr',\n",
              " 'classmethod',\n",
              " 'compile',\n",
              " 'complex',\n",
              " 'copyright',\n",
              " 'credits',\n",
              " 'delattr',\n",
              " 'dict',\n",
              " 'dir',\n",
              " 'display',\n",
              " 'divmod',\n",
              " 'dreload',\n",
              " 'enumerate',\n",
              " 'eval',\n",
              " 'exec',\n",
              " 'execfile',\n",
              " 'filter',\n",
              " 'float',\n",
              " 'format',\n",
              " 'frozenset',\n",
              " 'get_ipython',\n",
              " 'getattr',\n",
              " 'globals',\n",
              " 'hasattr',\n",
              " 'hash',\n",
              " 'help',\n",
              " 'hex',\n",
              " 'id',\n",
              " 'input',\n",
              " 'int',\n",
              " 'isinstance',\n",
              " 'issubclass',\n",
              " 'iter',\n",
              " 'len',\n",
              " 'license',\n",
              " 'list',\n",
              " 'locals',\n",
              " 'map',\n",
              " 'max',\n",
              " 'memoryview',\n",
              " 'min',\n",
              " 'next',\n",
              " 'object',\n",
              " 'oct',\n",
              " 'open',\n",
              " 'ord',\n",
              " 'pow',\n",
              " 'print',\n",
              " 'property',\n",
              " 'range',\n",
              " 'repr',\n",
              " 'reversed',\n",
              " 'round',\n",
              " 'runfile',\n",
              " 'set',\n",
              " 'setattr',\n",
              " 'slice',\n",
              " 'sorted',\n",
              " 'staticmethod',\n",
              " 'str',\n",
              " 'sum',\n",
              " 'super',\n",
              " 'tuple',\n",
              " 'type',\n",
              " 'vars',\n",
              " 'zip']"
            ]
          },
          "metadata": {
            "tags": []
          },
          "execution_count": 2
        }
      ]
    },
    {
      "cell_type": "code",
      "metadata": {
        "colab": {
          "base_uri": "https://localhost:8080/"
        },
        "id": "b8NJ2d8AEsYV",
        "outputId": "0c723af4-a8c6-4d1e-e709-d8fe070bc8c6"
      },
      "source": [
        "help(super)"
      ],
      "execution_count": null,
      "outputs": [
        {
          "output_type": "stream",
          "text": [
            "Help on class super in module builtins:\n",
            "\n",
            "class super(object)\n",
            " |  super() -> same as super(__class__, <first argument>)\n",
            " |  super(type) -> unbound super object\n",
            " |  super(type, obj) -> bound super object; requires isinstance(obj, type)\n",
            " |  super(type, type2) -> bound super object; requires issubclass(type2, type)\n",
            " |  Typical use to call a cooperative superclass method:\n",
            " |  class C(B):\n",
            " |      def meth(self, arg):\n",
            " |          super().meth(arg)\n",
            " |  This works for class methods too:\n",
            " |  class C(B):\n",
            " |      @classmethod\n",
            " |      def cmeth(cls, arg):\n",
            " |          super().cmeth(arg)\n",
            " |  \n",
            " |  Methods defined here:\n",
            " |  \n",
            " |  __get__(self, instance, owner, /)\n",
            " |      Return an attribute of instance, which is of type owner.\n",
            " |  \n",
            " |  __getattribute__(self, name, /)\n",
            " |      Return getattr(self, name).\n",
            " |  \n",
            " |  __init__(self, /, *args, **kwargs)\n",
            " |      Initialize self.  See help(type(self)) for accurate signature.\n",
            " |  \n",
            " |  __repr__(self, /)\n",
            " |      Return repr(self).\n",
            " |  \n",
            " |  ----------------------------------------------------------------------\n",
            " |  Static methods defined here:\n",
            " |  \n",
            " |  __new__(*args, **kwargs) from builtins.type\n",
            " |      Create and return a new object.  See help(type) for accurate signature.\n",
            " |  \n",
            " |  ----------------------------------------------------------------------\n",
            " |  Data descriptors defined here:\n",
            " |  \n",
            " |  __self__\n",
            " |      the instance invoking super(); may be None\n",
            " |  \n",
            " |  __self_class__\n",
            " |      the type of the instance invoking super(); may be None\n",
            " |  \n",
            " |  __thisclass__\n",
            " |      the class invoking super()\n",
            "\n"
          ],
          "name": "stdout"
        }
      ]
    },
    {
      "cell_type": "code",
      "metadata": {
        "colab": {
          "base_uri": "https://localhost:8080/"
        },
        "id": "_tSNSq0qE0mE",
        "outputId": "c86bc9e1-39ee-4aa6-e9ee-d574f0238914"
      },
      "source": [
        "def sqrt1():\n",
        "  n=9\n",
        "  print(\"sqrt of 9 is \", n**0.5)\n",
        "\n",
        "sqrt1()\n"
      ],
      "execution_count": null,
      "outputs": [
        {
          "output_type": "stream",
          "text": [
            "sqrt of 9 is  3.0\n"
          ],
          "name": "stdout"
        }
      ]
    },
    {
      "cell_type": "code",
      "metadata": {
        "colab": {
          "base_uri": "https://localhost:8080/"
        },
        "id": "h-esYM43V6ha",
        "outputId": "c221fb89-ad23-460c-8059-cf922fcfecc8"
      },
      "source": [
        "year = int(input(\"Enter an year \"))\n",
        "if (( year%400 == 0)or (( year%4 == 0 ) and ( year%100 != 0))):\n",
        "    print(\"%d is a Leap Year\" %year)\n",
        "else:\n",
        "    print(\"%d is Not the Leap Year\" %year)"
      ],
      "execution_count": null,
      "outputs": [
        {
          "output_type": "stream",
          "text": [
            "Enter an year 2016\n",
            "2016 is a Leap Year\n"
          ],
          "name": "stdout"
        }
      ]
    },
    {
      "cell_type": "code",
      "metadata": {
        "colab": {
          "base_uri": "https://localhost:8080/"
        },
        "id": "A4QqOi3SX9Se",
        "outputId": "2e373ff2-1ed2-4411-8201-5bd4f1241143"
      },
      "source": [
        "no=int(input(\"ENTER the month number\"))\n",
        "if(no==1):\n",
        "  print(\"January\")\n",
        "elif(no==2):\n",
        "  print(\"February\")\n",
        "elif(no==3):\n",
        "  print(\"March\")\n",
        "elif(no==4):\n",
        "  print(\"April\")\n",
        "elif(no==5):\n",
        "  print(\"May\")\n",
        "elif(no==6):\n",
        "  print(\"June\")\n",
        "elif(no==7):\n",
        "  print(\"july\")\n",
        "elif(no==8):\n",
        "  print(\"August\")\n",
        "elif(no==9):\n",
        "  print(\"September\")\n",
        "elif(no==10):\n",
        "  print(\"October\")\n",
        "elif(no==11):\n",
        "  print(\"November\")\n",
        "elif(no==12):\n",
        "  print(\"Dcember\")\n",
        "else:\n",
        "  print(\"Invalid no\")\n",
        "\n"
      ],
      "execution_count": null,
      "outputs": [
        {
          "output_type": "stream",
          "text": [
            "ENTER the month number12\n",
            "Dcember\n"
          ],
          "name": "stdout"
        }
      ]
    },
    {
      "cell_type": "code",
      "metadata": {
        "colab": {
          "base_uri": "https://localhost:8080/"
        },
        "id": "ltuUiIoMZGqE",
        "outputId": "0c184ddc-171d-4e96-8f03-80b4219a95a6"
      },
      "source": [
        "a=int(input(\"Enter 1st number\"))\n",
        "b=int(input(\"Enter 2nd number\"))\n",
        "c=int(input(\"Enter 3rd number\"))\n",
        "d=int(input(\"Enter 4th number\"))\n",
        "\n",
        "\n",
        "if (a>b):\n",
        "  if (a>c):\n",
        "    if (a>d):\n",
        "      print(a)\n",
        "    else:\n",
        "      print(d)\n",
        "  else:\n",
        "    if (c>d):\n",
        "      print(c)\n",
        "    else:\n",
        "      print(d)\n",
        "else:\n",
        "  if (b>c):\n",
        "    if (b>d):\n",
        "      print(b)\n",
        "    else:\n",
        "      print(d)\n",
        "  else:\n",
        "    if (c>d):\n",
        "      print(c)\n",
        "\n",
        "    else:\n",
        "      print(d)            \n",
        "\n",
        "    \n"
      ],
      "execution_count": null,
      "outputs": [
        {
          "output_type": "stream",
          "text": [
            "Enter 1st number10\n",
            "Enter 2nd number20\n",
            "Enter 3rd number30\n",
            "Enter 4th number40\n",
            "40\n"
          ],
          "name": "stdout"
        }
      ]
    },
    {
      "cell_type": "code",
      "metadata": {
        "colab": {
          "base_uri": "https://localhost:8080/"
        },
        "id": "3e_BeNrObRMM",
        "outputId": "22c7d56b-42f4-4f8b-e401-270561aa4d18"
      },
      "source": [
        "def fact(n):\n",
        "  if n==0 or n==1:\n",
        "    return n\n",
        "  return fact(n-1)*n\n",
        "\n",
        "print(fact(int(input(\"Enter number\"))))"
      ],
      "execution_count": null,
      "outputs": [
        {
          "output_type": "stream",
          "text": [
            "Enter number5\n",
            "120\n"
          ],
          "name": "stdout"
        }
      ]
    },
    {
      "cell_type": "code",
      "metadata": {
        "colab": {
          "base_uri": "https://localhost:8080/"
        },
        "id": "wWGY0X6ve7YO",
        "outputId": "f2beb000-c0e8-47b4-c22d-65adc9f3c881"
      },
      "source": [
        "def sum1(n):\n",
        "  if (n==1):\n",
        "    return n\n",
        "\n",
        "  return sum1(n-1)+n\n",
        "\n",
        "print(sum1(int(input(\"Enter number\"))))"
      ],
      "execution_count": null,
      "outputs": [
        {
          "output_type": "stream",
          "text": [
            "Enter number5\n",
            "15\n"
          ],
          "name": "stdout"
        }
      ]
    },
    {
      "cell_type": "code",
      "metadata": {
        "colab": {
          "base_uri": "https://localhost:8080/"
        },
        "id": "xWihOfJQgEV0",
        "outputId": "c87d99b5-a19f-444a-ed92-471778228972"
      },
      "source": [
        "def kmtomile(n):\n",
        "  return n*0.621371192\n",
        "\n",
        "\n",
        "print(kmtomile(int(input(\"Enter distance in km\"))))"
      ],
      "execution_count": null,
      "outputs": [
        {
          "output_type": "stream",
          "text": [
            "Enter distance in km1000\n",
            "621.3711920000001\n"
          ],
          "name": "stdout"
        }
      ]
    },
    {
      "cell_type": "code",
      "metadata": {
        "colab": {
          "base_uri": "https://localhost:8080/"
        },
        "id": "DsXr_nB0gqxi",
        "outputId": "03c4bbcd-b83f-4a0a-8844-c1b1697afa54"
      },
      "source": [
        "def simpleinterest(p,r,t):\n",
        "  print(\"Simple interest is\",p*r*t/100,sep=\" \")\n",
        "\n",
        "simpleinterest( int(input(\"Enter principle \"))  , int(input(\"Enter rate \")) ,int(input(\"Enter time \"))    )\n"
      ],
      "execution_count": null,
      "outputs": [
        {
          "output_type": "stream",
          "text": [
            "Enter principle 1000\n",
            "Enter rate 5\n",
            "Enter time 2\n",
            "Simple interest is 100.0\n"
          ],
          "name": "stdout"
        }
      ]
    },
    {
      "cell_type": "code",
      "metadata": {
        "colab": {
          "base_uri": "https://localhost:8080/"
        },
        "id": "ybn5ENP6b7O9",
        "outputId": "21f827f9-9e31-4adf-82d3-1f95fa22dc58"
      },
      "source": [
        "import math\n",
        "def distance(x1,y1,x2,y2):\n",
        "  dx=x2-x1\n",
        "  dy=y2-y1\n",
        " # print('dx is',dx)\n",
        "  #print('dy is',dy)\n",
        "  dsquared =dx**2+dy**2\n",
        " # print(\"dsquared is \",dsquared)\n",
        "  result=math.sqrt(dsquared)\n",
        "  #print(\"result is \",result )\n",
        "  return result\n",
        "\n",
        "distance(1,2,4,6)"
      ],
      "execution_count": null,
      "outputs": [
        {
          "output_type": "execute_result",
          "data": {
            "text/plain": [
              "5.0"
            ]
          },
          "metadata": {
            "tags": []
          },
          "execution_count": 18
        }
      ]
    },
    {
      "cell_type": "code",
      "metadata": {
        "id": "v3Nkh8fQkJhg"
      },
      "source": [
        "def area(r):\n",
        "  return math.pi*r**2\n",
        "  "
      ],
      "execution_count": null,
      "outputs": []
    },
    {
      "cell_type": "code",
      "metadata": {
        "colab": {
          "base_uri": "https://localhost:8080/"
        },
        "id": "MaTj0OhRjT2q",
        "outputId": "65298850-f6c8-4d19-fbec-13b4947558e1"
      },
      "source": [
        "def circle_area(xc,yc,xp,yp):\n",
        "  radius=distance(xc,yc,xp,yp)\n",
        "  result=area(radius)\n",
        "  return result\n",
        "\n",
        "circle_area(1,2,4,6)"
      ],
      "execution_count": null,
      "outputs": [
        {
          "output_type": "execute_result",
          "data": {
            "text/plain": [
              "78.53981633974483"
            ]
          },
          "metadata": {
            "tags": []
          },
          "execution_count": 19
        }
      ]
    }
  ]
}